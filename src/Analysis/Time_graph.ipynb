{
 "cells": [
  {
   "cell_type": "code",
   "execution_count": 1,
   "id": "5b4492fa",
   "metadata": {},
   "outputs": [],
   "source": [
    "import pandas as pd\n",
    "import seaborn as sns"
   ]
  },
  {
   "cell_type": "code",
   "execution_count": 8,
   "id": "182037cb",
   "metadata": {},
   "outputs": [],
   "source": [
    "linux = pd.read_csv(\"Linux.csv\")\n",
    "hadoop = pd.read_csv(\"Hadoop.csv\")\n",
    "spark = pd.read_csv(\"Spark.csv\")"
   ]
  },
  {
   "cell_type": "code",
   "execution_count": 7,
   "id": "f7edec8e",
   "metadata": {},
   "outputs": [
    {
     "name": "stdout",
     "output_type": "stream",
     "text": [
      "                            Book  real_time  user_time  sys_time\n",
      "0     buchanj-midwinter-00-t.txt      0.106      0.117     0.009\n",
      "1    carman-farhorizons-00-t.txt      0.016      0.018     0.003\n",
      "2    charlesworth-scene-00-t.txt      0.056      0.059     0.010\n",
      "3   cheyneyp-darkbahama-00-t.txt      0.090      0.099     0.006\n",
      "4       colby-champlain-00-t.txt      0.042      0.047     0.005\n",
      "5        delamare-bumps-00-t.txt      0.016      0.020     0.001\n",
      "6         delamare-lucy-00-t.txt      0.013      0.014     0.004\n",
      "7      delamare-myfanwy-00-t.txt      0.015      0.019     0.001\n",
      "8        delamare-penny-00-t.txt      0.010      0.011     0.004\n",
      "9                     pg4300.txt      0.526      0.412     0.010\n",
      "10    buchanj-midwinter-00-t.txt      0.106      0.126     0.000\n",
      "11   carman-farhorizons-00-t.txt      0.016      0.020     0.001\n",
      "12   charlesworth-scene-00-t.txt      0.057      0.068     0.001\n",
      "13  cheyneyp-darkbahama-00-t.txt      0.088      0.103     0.002\n",
      "14      colby-champlain-00-t.txt      0.040      0.047     0.004\n",
      "15       delamare-bumps-00-t.txt      0.015      0.016     0.004\n",
      "16        delamare-lucy-00-t.txt      0.013      0.013     0.005\n",
      "17     delamare-myfanwy-00-t.txt      0.015      0.019     0.000\n",
      "18       delamare-penny-00-t.txt      0.010      0.012     0.003\n",
      "19                    pg4300.txt      0.358      0.404     0.015\n",
      "20    buchanj-midwinter-00-t.txt      0.106      0.121     0.006\n",
      "21   carman-farhorizons-00-t.txt      0.016      0.021     0.000\n",
      "22   charlesworth-scene-00-t.txt      0.057      0.062     0.008\n",
      "23  cheyneyp-darkbahama-00-t.txt      0.087      0.096     0.006\n",
      "24      colby-champlain-00-t.txt      0.041      0.045     0.006\n",
      "25       delamare-bumps-00-t.txt      0.015      0.018     0.001\n",
      "26        delamare-lucy-00-t.txt      0.013      0.017     0.000\n",
      "27     delamare-myfanwy-00-t.txt      0.014      0.018     0.001\n",
      "28       delamare-penny-00-t.txt      0.010      0.013     0.001\n",
      "29                    pg4300.txt      0.357      0.394     0.023\n"
     ]
    }
   ],
   "source": [
    "print(linux)"
   ]
  }
 ],
 "metadata": {
  "kernelspec": {
   "display_name": "Python 3 (ipykernel)",
   "language": "python",
   "name": "python3"
  },
  "language_info": {
   "codemirror_mode": {
    "name": "ipython",
    "version": 3
   },
   "file_extension": ".py",
   "mimetype": "text/x-python",
   "name": "python",
   "nbconvert_exporter": "python",
   "pygments_lexer": "ipython3",
   "version": "3.9.12"
  }
 },
 "nbformat": 4,
 "nbformat_minor": 5
}
