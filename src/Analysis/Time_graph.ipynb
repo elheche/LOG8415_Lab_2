{
 "cells": [
  {
   "cell_type": "code",
   "execution_count": 60,
   "id": "5b4492fa",
   "metadata": {},
   "outputs": [],
   "source": [
    "import pandas as pd\n",
    "import seaborn as sns\n",
    "import matplotlib.pyplot as pyplot"
   ]
  },
  {
   "cell_type": "code",
   "execution_count": 53,
   "id": "182037cb",
   "metadata": {},
   "outputs": [],
   "source": [
    "linux = pd.read_csv(\"Linux.csv\")\n",
    "hadoop = pd.read_csv(\"Hadoop.csv\")\n",
    "spark = pd.read_csv(\"Spark.csv\")\n",
    "hadoop_vs_spark = pd.read_csv(\"Hadoop_vs_linux.csv\")"
   ]
  },
  {
   "cell_type": "code",
   "execution_count": 46,
   "id": "9040313a",
   "metadata": {},
   "outputs": [
    {
     "name": "stdout",
     "output_type": "stream",
     "text": [
      "   System Type of time  Time(S)\n",
      "0  Hadoop    real_time    6.070\n",
      "1  Hadoop    user_time    9.848\n",
      "2  Hadoop     sys_time    0.565\n",
      "3   Linux    real_time    0.376\n",
      "4   Linux    user_time    0.422\n",
      "5   Linux     sys_time    0.015\n"
     ]
    }
   ],
   "source": [
    "print(hadoop_vs_spark)"
   ]
  },
  {
   "cell_type": "code",
   "execution_count": 61,
   "id": "af7b1182",
   "metadata": {},
   "outputs": [
    {
     "data": {
      "image/png": "[encoded data removed]",
      "text/plain": [
       "<Figure size 864x864 with 1 Axes>"
      ]
     },
     "metadata": {
      "needs_background": "light"
     },
     "output_type": "display_data"
    }
   ],
   "source": [
    "fig = pyplot.figure(figsize=(12,12))\n",
    "sns.barplot(data=hadoop_vs_spark, x=\"Type of time\", hue=\"System\", y =\"Time(S)\" )\n",
    "pyplot.savefig(\"Hadoop_vs_Linux.pdf\", dpi=400)"
   ]
  },
  {
   "cell_type": "code",
   "execution_count": 54,
   "id": "19b6b07d",
   "metadata": {},
   "outputs": [],
   "source": [
    "#add column and stack\n",
    "hadoop['System'] = \"Hadoop\"\n",
    "spark['System'] = \"Spark\"\n",
    "dataframe = pd.concat([hadoop, spark], ignore_index=True, axis=0)"
   ]
  },
  {
   "cell_type": "code",
   "execution_count": 57,
   "id": "a65e83da",
   "metadata": {},
   "outputs": [],
   "source": [
    "data = pd.melt(dataframe, id_vars=[\"System\", \"Book\"],var_name= \"Type of time\", value_name=\"Times (S)\")"
   ]
  },
  {
   "cell_type": "code",
   "execution_count": 62,
   "id": "14ec73e0",
   "metadata": {},
   "outputs": [
    {
     "data": {
      "image/png": "[encoded data removed]",
      "text/plain": [
       "<Figure size 864x864 with 1 Axes>"
      ]
     },
     "metadata": {
      "needs_background": "light"
     },
     "output_type": "display_data"
    }
   ],
   "source": [
    "fig = pyplot.figure(figsize=(12,12))\n",
    "sns.boxplot(data=data, x=\"Type of time\", y=\"Times (S)\", hue=\"System\")\n",
    "pyplot.savefig(\"Hadoop_vs_Spark.pdf\", dpi=400)"
   ]
  },
  {
   "cell_type": "code",
   "execution_count": 58,
   "id": "3860818d",
   "metadata": {},
   "outputs": [
    {
     "data": {
      "text/html": [
       "<div>\n",
       "<style scoped>\n",
       "    .dataframe tbody tr th:only-of-type {\n",
       "        vertical-align: middle;\n",
       "    }\n",
       "\n",
       "    .dataframe tbody tr th {\n",
       "        vertical-align: top;\n",
       "    }\n",
       "\n",
       "    .dataframe thead th {\n",
       "        text-align: right;\n",
       "    }\n",
       "</style>\n",
       "<table border=\"1\" class=\"dataframe\">\n",
       "  <thead>\n",
       "    <tr style=\"text-align: right;\">\n",
       "      <th></th>\n",
       "      <th>System</th>\n",
       "      <th>Book</th>\n",
       "      <th>Type of time</th>\n",
       "      <th>Times (S)</th>\n",
       "    </tr>\n",
       "  </thead>\n",
       "  <tbody>\n",
       "    <tr>\n",
       "      <th>0</th>\n",
       "      <td>Hadoop</td>\n",
       "      <td>buchanj-midwinter-00-t.txt</td>\n",
       "      <td>real_time</td>\n",
       "      <td>4.821</td>\n",
       "    </tr>\n",
       "    <tr>\n",
       "      <th>1</th>\n",
       "      <td>Hadoop</td>\n",
       "      <td>carman-farhorizons-00-t.txt</td>\n",
       "      <td>real_time</td>\n",
       "      <td>3.830</td>\n",
       "    </tr>\n",
       "    <tr>\n",
       "      <th>2</th>\n",
       "      <td>Hadoop</td>\n",
       "      <td>charlesworth-scene-00-t.txt</td>\n",
       "      <td>real_time</td>\n",
       "      <td>4.841</td>\n",
       "    </tr>\n",
       "    <tr>\n",
       "      <th>3</th>\n",
       "      <td>Hadoop</td>\n",
       "      <td>cheyneyp-darkbahama-00-t.txt</td>\n",
       "      <td>real_time</td>\n",
       "      <td>4.794</td>\n",
       "    </tr>\n",
       "    <tr>\n",
       "      <th>4</th>\n",
       "      <td>Hadoop</td>\n",
       "      <td>colby-champlain-00-t.txt</td>\n",
       "      <td>real_time</td>\n",
       "      <td>3.854</td>\n",
       "    </tr>\n",
       "    <tr>\n",
       "      <th>...</th>\n",
       "      <td>...</td>\n",
       "      <td>...</td>\n",
       "      <td>...</td>\n",
       "      <td>...</td>\n",
       "    </tr>\n",
       "    <tr>\n",
       "      <th>175</th>\n",
       "      <td>Spark</td>\n",
       "      <td>delamare-bumps-00-t.txt</td>\n",
       "      <td>sys_time</td>\n",
       "      <td>0.371</td>\n",
       "    </tr>\n",
       "    <tr>\n",
       "      <th>176</th>\n",
       "      <td>Spark</td>\n",
       "      <td>delamare-lucy-00-t.txt</td>\n",
       "      <td>sys_time</td>\n",
       "      <td>0.348</td>\n",
       "    </tr>\n",
       "    <tr>\n",
       "      <th>177</th>\n",
       "      <td>Spark</td>\n",
       "      <td>delamare-myfanwy-00-t.txt</td>\n",
       "      <td>sys_time</td>\n",
       "      <td>0.377</td>\n",
       "    </tr>\n",
       "    <tr>\n",
       "      <th>178</th>\n",
       "      <td>Spark</td>\n",
       "      <td>delamare-penny-00-t.txt</td>\n",
       "      <td>sys_time</td>\n",
       "      <td>0.358</td>\n",
       "    </tr>\n",
       "    <tr>\n",
       "      <th>179</th>\n",
       "      <td>Spark</td>\n",
       "      <td>pg4300.txt</td>\n",
       "      <td>sys_time</td>\n",
       "      <td>0.449</td>\n",
       "    </tr>\n",
       "  </tbody>\n",
       "</table>\n",
       "<p>180 rows × 4 columns</p>\n",
       "</div>"
      ],
      "text/plain": [
       "     System                          Book Type of time  Times (S)\n",
       "0    Hadoop    buchanj-midwinter-00-t.txt    real_time      4.821\n",
       "1    Hadoop   carman-farhorizons-00-t.txt    real_time      3.830\n",
       "2    Hadoop   charlesworth-scene-00-t.txt    real_time      4.841\n",
       "3    Hadoop  cheyneyp-darkbahama-00-t.txt    real_time      4.794\n",
       "4    Hadoop      colby-champlain-00-t.txt    real_time      3.854\n",
       "..      ...                           ...          ...        ...\n",
       "175   Spark       delamare-bumps-00-t.txt     sys_time      0.371\n",
       "176   Spark        delamare-lucy-00-t.txt     sys_time      0.348\n",
       "177   Spark     delamare-myfanwy-00-t.txt     sys_time      0.377\n",
       "178   Spark       delamare-penny-00-t.txt     sys_time      0.358\n",
       "179   Spark                    pg4300.txt     sys_time      0.449\n",
       "\n",
       "[180 rows x 4 columns]"
      ]
     },
     "execution_count": 58,
     "metadata": {},
     "output_type": "execute_result"
    }
   ],
   "source": [
    "data"
   ]
  },
  {
   "cell_type": "markdown",
   "id": "a7380fd8",
   "metadata": {},
   "source": [
    "AZure Analysis"
   ]
  },
  {
   "cell_type": "code",
   "execution_count": 66,
   "id": "1ecdfc34",
   "metadata": {},
   "outputs": [
    {
     "name": "stdout",
     "output_type": "stream",
     "text": [
      "   System Type of time  Time(S)\n",
      "0  Hadoop    real_time    5.982\n",
      "1  Hadoop    user_time    9.879\n",
      "2  Hadoop     sys_time    0.350\n",
      "3   Linux    real_time    0.354\n",
      "4   Linux    user_time    0.393\n",
      "5   Linux     sys_time    0.026\n"
     ]
    }
   ],
   "source": [
    "hadoop_vs_spark_az = pd.read_csv(\"Hadoop_vs_linux_AZ.csv\")\n",
    "print(hadoop_vs_spark_az)"
   ]
  },
  {
   "cell_type": "code",
   "execution_count": 67,
   "id": "ead38530",
   "metadata": {},
   "outputs": [
    {
     "data": {
      "image/png": "[encoded data removed]",
      "text/plain": [
       "<Figure size 864x864 with 1 Axes>"
      ]
     },
     "metadata": {
      "needs_background": "light"
     },
     "output_type": "display_data"
    }
   ],
   "source": [
    "fig = pyplot.figure(figsize=(12,12))\n",
    "sns.barplot(data=hadoop_vs_spark_az, x=\"Type of time\", hue=\"System\", y =\"Time(S)\" )\n",
    "pyplot.savefig(\"Hadoop_vs_Linux_AZ.pdf\", dpi=400)"
   ]
  },
  {
   "cell_type": "code",
   "execution_count": 81,
   "id": "ae2fc83f",
   "metadata": {},
   "outputs": [],
   "source": [
    "hadoop_az = pd.read_csv(\"Hadoop_az.csv\")\n",
    "spark_az = pd.read_csv(\"Spark_az.csv\")"
   ]
  },
  {
   "cell_type": "code",
   "execution_count": 82,
   "id": "47764c64",
   "metadata": {},
   "outputs": [],
   "source": [
    "#add column and stack\n",
    "hadoop_az['System'] = \"Hadoop\"\n",
    "spark_az['System'] = \"Spark\"\n",
    "dataframe_az = pd.concat([hadoop_az, spark_az], ignore_index=True, axis=0)"
   ]
  },
  {
   "cell_type": "code",
   "execution_count": 83,
   "id": "f01f3651",
   "metadata": {},
   "outputs": [],
   "source": [
    "data_az = pd.melt(dataframe_az, id_vars=[\"System\", \"Book\"],var_name= \"Type of time\", value_name=\"Times (S)\")"
   ]
  },
  {
   "cell_type": "code",
   "execution_count": 84,
   "id": "ce45f023",
   "metadata": {},
   "outputs": [
    {
     "data": {
      "image/png": "[encoded data removed]",
      "text/plain": [
       "<Figure size 864x864 with 1 Axes>"
      ]
     },
     "metadata": {
      "needs_background": "light"
     },
     "output_type": "display_data"
    }
   ],
   "source": [
    "fig = pyplot.figure(figsize=(12,12))\n",
    "sns.boxplot(data=data_az, x=\"Type of time\", y=\"Times (S)\", hue=\"System\")\n",
    "pyplot.savefig(\"Hadoop_vs_Spark_az.pdf\", dpi=400)"
   ]
  }
 ],
 "metadata": {
  "kernelspec": {
   "display_name": "Python 3 (ipykernel)",
   "language": "python",
   "name": "python3"
  },
  "language_info": {
   "codemirror_mode": {
    "name": "ipython",
    "version": 3
   },
   "file_extension": ".py",
   "mimetype": "text/x-python",
   "name": "python",
   "nbconvert_exporter": "python",
   "pygments_lexer": "ipython3",
   "version": "3.9.12"
  }
 },
 "nbformat": 4,
 "nbformat_minor": 5
}
